{
  "nbformat": 4,
  "nbformat_minor": 0,
  "metadata": {
    "colab": {
      "provenance": []
    },
    "kernelspec": {
      "name": "python3",
      "display_name": "Python 3"
    },
    "language_info": {
      "name": "python"
    }
  },
  "cells": [
    {
      "cell_type": "code",
      "execution_count": null,
      "metadata": {
        "id": "_cZmio7OKPTO"
      },
      "outputs": [],
      "source": [
        "import pandas as pd\n",
        "\n",
        "articles_df = pd.read_csv('best_cnnbart_articles.csv')\n",
        "sentiment_df = pd.read_csv('best_cnnbart_sentiment.csv')"
      ]
    },
    {
      "cell_type": "code",
      "source": [
        "generated_sentiment = sentiment_df[\"generated_sentiment\"]\n",
        "articles_sentiment = articles_df[\"article_sentiment\"]"
      ],
      "metadata": {
        "id": "IDthoXdFK2IP"
      },
      "execution_count": null,
      "outputs": []
    },
    {
      "cell_type": "code",
      "source": [
        "generated_sentiment[:49]"
      ],
      "metadata": {
        "colab": {
          "base_uri": "https://localhost:8080/"
        },
        "id": "eesfCURiUA9F",
        "outputId": "780df6f8-a6c5-4c86-86d7-637f58d61a58"
      },
      "execution_count": null,
      "outputs": [
        {
          "output_type": "execute_result",
          "data": {
            "text/plain": [
              "0      neutral\n",
              "1      neutral\n",
              "2     positive\n",
              "3      neutral\n",
              "4     negative\n",
              "5      neutral\n",
              "6     negative\n",
              "7      neutral\n",
              "8      neutral\n",
              "9     negative\n",
              "10     neutral\n",
              "11    negative\n",
              "12    negative\n",
              "13     neutral\n",
              "14     neutral\n",
              "15     neutral\n",
              "16     neutral\n",
              "17    negative\n",
              "18    negative\n",
              "19     neutral\n",
              "20     neutral\n",
              "21     neutral\n",
              "22     neutral\n",
              "23     neutral\n",
              "24     neutral\n",
              "25     neutral\n",
              "26     neutral\n",
              "27     neutral\n",
              "28    negative\n",
              "29     neutral\n",
              "30     neutral\n",
              "31    negative\n",
              "32     neutral\n",
              "33    positive\n",
              "34    negative\n",
              "35     neutral\n",
              "36     neutral\n",
              "37    negative\n",
              "38    negative\n",
              "39    negative\n",
              "40     neutral\n",
              "41    positive\n",
              "42    negative\n",
              "43     neutral\n",
              "44    negative\n",
              "45    positive\n",
              "46    negative\n",
              "47     neutral\n",
              "48    positive\n",
              "Name: generated_sentiment, dtype: object"
            ]
          },
          "metadata": {},
          "execution_count": 26
        }
      ]
    },
    {
      "cell_type": "code",
      "source": [
        "articles_sentiment[:49]"
      ],
      "metadata": {
        "colab": {
          "base_uri": "https://localhost:8080/"
        },
        "id": "ohsLaaHEUGZ_",
        "outputId": "49fbaef8-6cd0-4778-8a2e-e1f6cd4ebd9d"
      },
      "execution_count": null,
      "outputs": [
        {
          "output_type": "execute_result",
          "data": {
            "text/plain": [
              "0      neutral\n",
              "1      neutral\n",
              "2      neutral\n",
              "3      neutral\n",
              "4      neutral\n",
              "5      neutral\n",
              "6     negative\n",
              "7      neutral\n",
              "8     positive\n",
              "9      neutral\n",
              "10     neutral\n",
              "11    negative\n",
              "12     neutral\n",
              "13     neutral\n",
              "14     neutral\n",
              "15    negative\n",
              "16     neutral\n",
              "17     neutral\n",
              "18    negative\n",
              "19     neutral\n",
              "20     neutral\n",
              "21     neutral\n",
              "22     neutral\n",
              "23     neutral\n",
              "24     neutral\n",
              "25     neutral\n",
              "26     neutral\n",
              "27     neutral\n",
              "28     neutral\n",
              "29     neutral\n",
              "30     neutral\n",
              "31     neutral\n",
              "32    negative\n",
              "33    positive\n",
              "34    negative\n",
              "35     neutral\n",
              "36     neutral\n",
              "37    negative\n",
              "38    negative\n",
              "39    negative\n",
              "40     neutral\n",
              "41    negative\n",
              "42    negative\n",
              "43     neutral\n",
              "44    negative\n",
              "45     neutral\n",
              "46     neutral\n",
              "47     neutral\n",
              "48    positive\n",
              "Name: article_sentiment, dtype: object"
            ]
          },
          "metadata": {},
          "execution_count": 27
        }
      ]
    },
    {
      "cell_type": "code",
      "source": [
        "def numerate(labels_text):\n",
        "  labels = []\n",
        "  for x in labels_text:\n",
        "    if x == \"neutral\":\n",
        "      labels.append(0)\n",
        "    elif x == \"positive\":\n",
        "      labels.append(1)\n",
        "    else:\n",
        "      labels.append(-1)\n",
        "  return labels"
      ],
      "metadata": {
        "id": "0f-nyzYJLGKf"
      },
      "execution_count": null,
      "outputs": []
    },
    {
      "cell_type": "code",
      "source": [
        "generated_n = numerate(generated_sentiment)\n",
        "articles_n = numerate(articles_sentiment)"
      ],
      "metadata": {
        "id": "wyPDzp8YLk-B"
      },
      "execution_count": null,
      "outputs": []
    },
    {
      "cell_type": "code",
      "source": [
        "from collections import Counter\n",
        "\n",
        "print(Counter(generated_sentiment))\n",
        "print(Counter(articles_sentiment))"
      ],
      "metadata": {
        "colab": {
          "base_uri": "https://localhost:8080/"
        },
        "id": "hdaKE58sM9Sz",
        "outputId": "8320b58a-6f0e-4ac9-a913-19806bb049a4"
      },
      "execution_count": null,
      "outputs": [
        {
          "output_type": "stream",
          "name": "stdout",
          "text": [
            "Counter({'neutral': 3481, 'negative': 2692, 'positive': 827})\n",
            "Counter({'neutral': 4873, 'negative': 1434, 'positive': 693})\n"
          ]
        }
      ]
    },
    {
      "cell_type": "code",
      "source": [
        "sum(generated_n)"
      ],
      "metadata": {
        "colab": {
          "base_uri": "https://localhost:8080/"
        },
        "id": "i98JRUq0LwJU",
        "outputId": "139b388a-b1d9-4106-df96-cfa721e99fd2"
      },
      "execution_count": null,
      "outputs": [
        {
          "output_type": "execute_result",
          "data": {
            "text/plain": [
              "-1865"
            ]
          },
          "metadata": {},
          "execution_count": 10
        }
      ]
    },
    {
      "cell_type": "code",
      "source": [
        "sum(articles_n)"
      ],
      "metadata": {
        "colab": {
          "base_uri": "https://localhost:8080/"
        },
        "id": "nnsjUeg1L_CI",
        "outputId": "28112dbc-12b2-4a0d-a554-0ea3fab23d27"
      },
      "execution_count": null,
      "outputs": [
        {
          "output_type": "execute_result",
          "data": {
            "text/plain": [
              "-741"
            ]
          },
          "metadata": {},
          "execution_count": 11
        }
      ]
    },
    {
      "cell_type": "code",
      "source": [
        "truth = ['positive',\n",
        "         'neutral',\n",
        "         'positive',\n",
        "         'neutral',\n",
        "         'negative',\n",
        "\n",
        "         'neutral',\n",
        "         'negative',\n",
        "         'neutral',\n",
        "         'positive',\n",
        "         'negative',\n",
        "\n",
        "         'positive',\n",
        "         'negative',\n",
        "         'neutral',\n",
        "         'neutral',\n",
        "         'neutral',\n",
        "         'negative',\n",
        "         'negative',\n",
        "         'positive',\n",
        "\n",
        "         'negative',\n",
        "         'positive',\n",
        "         'neutral',\n",
        "         'negative',\n",
        "         'neutral',\n",
        "         'neutral',\n",
        "         'negative',\n",
        "\n",
        "         'positive',\n",
        "         'negative',\n",
        "         'neutral',\n",
        "         'neutral',\n",
        "         'negative',\n",
        "         'neutral',\n",
        "\n",
        "         'negative',\n",
        "         'negative',\n",
        "         'positive',\n",
        "         'negative',\n",
        "         'negative',\n",
        "         'neutral',\n",
        "\n",
        "         'negative',\n",
        "         'negative',\n",
        "         'negative',\n",
        "         'negative',\n",
        "         'negative',\n",
        "         'negative',\n",
        "         'negative',\n",
        "         'negative',\n",
        "\n",
        "         'positive',\n",
        "         'negative',\n",
        "         'negative',\n",
        "         'neutral']"
      ],
      "metadata": {
        "id": "zcsVzNFMQFyx"
      },
      "execution_count": null,
      "outputs": []
    },
    {
      "cell_type": "code",
      "source": [
        "Counter(truth)"
      ],
      "metadata": {
        "colab": {
          "base_uri": "https://localhost:8080/"
        },
        "id": "r3Blln_rSBpb",
        "outputId": "0319370f-ab47-4fc8-f09a-aa9f8a5eb8c7"
      },
      "execution_count": null,
      "outputs": [
        {
          "output_type": "execute_result",
          "data": {
            "text/plain": [
              "Counter({'positive': 9, 'neutral': 15, 'negative': 25})"
            ]
          },
          "metadata": {},
          "execution_count": 19
        }
      ]
    },
    {
      "cell_type": "code",
      "source": [
        "from sklearn.metrics import accuracy_score, classification_report\n",
        "\n",
        "accuracy = accuracy_score(truth, articles_sentiment[:49])\n",
        "print(f'Accuracy: {accuracy}')"
      ],
      "metadata": {
        "colab": {
          "base_uri": "https://localhost:8080/"
        },
        "id": "1T_n08RrTfJy",
        "outputId": "799fe4d3-5784-4aac-a500-6598c8f100e6"
      },
      "execution_count": null,
      "outputs": [
        {
          "output_type": "stream",
          "name": "stdout",
          "text": [
            "Accuracy: 0.5714285714285714\n"
          ]
        }
      ]
    },
    {
      "cell_type": "code",
      "source": [
        "from sklearn.metrics import accuracy_score, classification_report\n",
        "\n",
        "accuracy = accuracy_score(truth, generated_sentiment[:49])\n",
        "print(f'Accuracy: {accuracy}')"
      ],
      "metadata": {
        "colab": {
          "base_uri": "https://localhost:8080/"
        },
        "id": "isiJysc3T0qr",
        "outputId": "6c781ad5-14c4-4a9a-9ced-73eae0692e87"
      },
      "execution_count": null,
      "outputs": [
        {
          "output_type": "stream",
          "name": "stdout",
          "text": [
            "Accuracy: 0.5714285714285714\n"
          ]
        }
      ]
    },
    {
      "cell_type": "code",
      "source": [
        "labels = ['negative', 'neutral', 'positive']\n",
        "report = classification_report(truth, articles_sentiment[:49], labels=labels, target_names=labels)\n",
        "print(report)"
      ],
      "metadata": {
        "colab": {
          "base_uri": "https://localhost:8080/"
        },
        "id": "YEU03FPyUwp-",
        "outputId": "6875592b-9383-48f0-eea6-f1216df9985b"
      },
      "execution_count": null,
      "outputs": [
        {
          "output_type": "stream",
          "name": "stdout",
          "text": [
            "              precision    recall  f1-score   support\n",
            "\n",
            "    negative       1.00      0.48      0.65        25\n",
            "     neutral       0.41      0.93      0.57        15\n",
            "    positive       0.67      0.22      0.33         9\n",
            "\n",
            "    accuracy                           0.57        49\n",
            "   macro avg       0.69      0.55      0.52        49\n",
            "weighted avg       0.76      0.57      0.57        49\n",
            "\n"
          ]
        }
      ]
    },
    {
      "cell_type": "code",
      "source": [
        "labels = ['negative', 'neutral', 'positive']\n",
        "report = classification_report(truth, generated_sentiment[:49], labels=labels, target_names=labels)\n",
        "print(report)"
      ],
      "metadata": {
        "colab": {
          "base_uri": "https://localhost:8080/"
        },
        "id": "WJSXjhnSVH7s",
        "outputId": "b4e1e4a9-9406-4964-b82a-e1887524f4ee"
      },
      "execution_count": null,
      "outputs": [
        {
          "output_type": "stream",
          "name": "stdout",
          "text": [
            "              precision    recall  f1-score   support\n",
            "\n",
            "    negative       0.81      0.52      0.63        25\n",
            "     neutral       0.43      0.80      0.56        15\n",
            "    positive       0.60      0.33      0.43         9\n",
            "\n",
            "    accuracy                           0.57        49\n",
            "   macro avg       0.61      0.55      0.54        49\n",
            "weighted avg       0.66      0.57      0.57        49\n",
            "\n"
          ]
        }
      ]
    }
  ]
}