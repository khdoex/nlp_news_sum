{
 "cells": [
  {
   "cell_type": "code",
   "execution_count": 10,
   "metadata": {
    "colab": {
     "base_uri": "https://localhost:8080/"
    },
    "id": "7ueqNUAAYuLJ",
    "outputId": "b63f172e-2507-4c8f-c5f7-98156ab8f020"
   },
   "outputs": [
    {
     "name": "stdout",
     "output_type": "stream",
     "text": [
      "Requirement already satisfied: torch in c:\\users\\123\\anaconda3\\lib\\site-packages (2.3.0)"
     ]
    },
    {
     "name": "stderr",
     "output_type": "stream",
     "text": [
      "DEPRECATION: pyodbc 4.0.0-unsupported has a non-standard version number. pip 24.1 will enforce this behaviour change. A possible replacement is to upgrade to a newer version of pyodbc or contact the author to suggest that they release a version with a conforming version number. Discussion can be found at https://github.com/pypa/pip/issues/12063\n"
     ]
    },
    {
     "name": "stdout",
     "output_type": "stream",
     "text": [
      "\n",
      "Requirement already satisfied: filelock in c:\\users\\123\\anaconda3\\lib\\site-packages (from torch) (3.0.12)\n",
      "Requirement already satisfied: typing-extensions>=4.8.0 in c:\\users\\123\\anaconda3\\lib\\site-packages (from torch) (4.10.0)\n",
      "Requirement already satisfied: sympy in c:\\users\\123\\anaconda3\\lib\\site-packages (from torch) (1.8)\n",
      "Requirement already satisfied: networkx in c:\\users\\123\\anaconda3\\lib\\site-packages (from torch) (2.5)\n",
      "Requirement already satisfied: jinja2 in c:\\users\\123\\anaconda3\\lib\\site-packages (from torch) (2.11.3)\n",
      "Requirement already satisfied: fsspec in c:\\users\\123\\anaconda3\\lib\\site-packages (from torch) (2024.3.1)\n",
      "Requirement already satisfied: mkl<=2021.4.0,>=2021.1.1 in c:\\users\\123\\anaconda3\\lib\\site-packages (from torch) (2021.4.0)\n",
      "Requirement already satisfied: intel-openmp==2021.* in c:\\users\\123\\anaconda3\\lib\\site-packages (from mkl<=2021.4.0,>=2021.1.1->torch) (2021.4.0)\n",
      "Requirement already satisfied: tbb==2021.* in c:\\users\\123\\anaconda3\\lib\\site-packages (from mkl<=2021.4.0,>=2021.1.1->torch) (2021.12.0)\n",
      "Requirement already satisfied: MarkupSafe>=0.23 in c:\\users\\123\\anaconda3\\lib\\site-packages (from jinja2->torch) (1.1.1)\n",
      "Requirement already satisfied: decorator>=4.3.0 in c:\\users\\123\\anaconda3\\lib\\site-packages (from networkx->torch) (5.0.6)\n",
      "Requirement already satisfied: mpmath>=0.19 in c:\\users\\123\\anaconda3\\lib\\site-packages (from sympy->torch) (1.2.1)\n",
      "Requirement already satisfied: pandas in c:\\users\\123\\anaconda3\\lib\\site-packages (1.2.4)"
     ]
    },
    {
     "name": "stderr",
     "output_type": "stream",
     "text": [
      "DEPRECATION: pyodbc 4.0.0-unsupported has a non-standard version number. pip 24.1 will enforce this behaviour change. A possible replacement is to upgrade to a newer version of pyodbc or contact the author to suggest that they release a version with a conforming version number. Discussion can be found at https://github.com/pypa/pip/issues/12063\n"
     ]
    },
    {
     "name": "stdout",
     "output_type": "stream",
     "text": [
      "\n",
      "Requirement already satisfied: python-dateutil>=2.7.3 in c:\\users\\123\\anaconda3\\lib\\site-packages (from pandas) (2.8.1)\n",
      "Requirement already satisfied: pytz>=2017.3 in c:\\users\\123\\anaconda3\\lib\\site-packages (from pandas) (2021.1)\n",
      "Requirement already satisfied: numpy>=1.16.5 in c:\\users\\123\\anaconda3\\lib\\site-packages (from pandas) (1.19.5)\n",
      "Requirement already satisfied: six>=1.5 in c:\\users\\123\\anaconda3\\lib\\site-packages (from python-dateutil>=2.7.3->pandas) (1.15.0)\n",
      "Requirement already satisfied: transformers in c:\\users\\123\\anaconda3\\lib\\site-packages (4.14.1)\n",
      "Requirement already satisfied: filelock in c:\\users\\123\\anaconda3\\lib\\site-packages (from transformers) (3.0.12)\n",
      "Requirement already satisfied: huggingface-hub<1.0,>=0.1.0 in c:\\users\\123\\anaconda3\\lib\\site-packages (from transformers) (0.23.0)\n",
      "Requirement already satisfied: numpy>=1.17 in c:\\users\\123\\anaconda3\\lib\\site-packages (from transformers) (1.19.5)\n",
      "Requirement already satisfied: packaging>=20.0 in c:\\users\\123\\anaconda3\\lib\\site-packages (from transformers) (20.9)\n",
      "Requirement already satisfied: pyyaml>=5.1 in c:\\users\\123\\anaconda3\\lib\\site-packages (from transformers) (5.4.1)\n",
      "Requirement already satisfied: regex!=2019.12.17 in c:\\users\\123\\anaconda3\\lib\\site-packages (from transformers) (2024.5.15)\n",
      "Requirement already satisfied: requests in c:\\users\\123\\anaconda3\\lib\\site-packages (from transformers) (2.25.1)\n",
      "Requirement already satisfied: sacremoses in c:\\users\\123\\anaconda3\\lib\\site-packages (from transformers) (0.0.46)\n",
      "Requirement already satisfied: tokenizers<0.11,>=0.10.1 in c:\\users\\123\\anaconda3\\lib\\site-packages (from transformers) (0.10.3)\n",
      "Requirement already satisfied: tqdm>=4.27 in c:\\users\\123\\anaconda3\\lib\\site-packages (from transformers) (4.66.4)\n",
      "Requirement already satisfied: fsspec>=2023.5.0 in c:\\users\\123\\anaconda3\\lib\\site-packages (from huggingface-hub<1.0,>=0.1.0->transformers) (2024.3.1)\n",
      "Requirement already satisfied: typing-extensions>=3.7.4.3 in c:\\users\\123\\anaconda3\\lib\\site-packages (from huggingface-hub<1.0,>=0.1.0->transformers) (4.10.0)\n",
      "Requirement already satisfied: pyparsing>=2.0.2 in c:\\users\\123\\anaconda3\\lib\\site-packages (from packaging>=20.0->transformers) (2.4.7)\n",
      "Requirement already satisfied: colorama in c:\\users\\123\\anaconda3\\lib\\site-packages (from tqdm>=4.27->transformers) (0.4.6)\n",
      "Requirement already satisfied: chardet<5,>=3.0.2 in c:\\users\\123\\anaconda3\\lib\\site-packages (from requests->transformers) (4.0.0)\n",
      "Requirement already satisfied: idna<3,>=2.5 in c:\\users\\123\\anaconda3\\lib\\site-packages (from requests->transformers) (2.10)\n",
      "Requirement already satisfied: urllib3<1.27,>=1.21.1 in c:\\users\\123\\anaconda3\\lib\\site-packages (from requests->transformers) (1.26.4)\n",
      "Requirement already satisfied: certifi>=2017.4.17 in c:\\users\\123\\anaconda3\\lib\\site-packages (from requests->transformers) (2024.2.2)\n",
      "Requirement already satisfied: six in c:\\users\\123\\anaconda3\\lib\\site-packages (from sacremoses->transformers) (1.15.0)\n",
      "Requirement already satisfied: click in c:\\users\\123\\anaconda3\\lib\\site-packages (from sacremoses->transformers) (7.1.2)\n",
      "Requirement already satisfied: joblib in c:\\users\\123\\anaconda3\\lib\\site-packages (from sacremoses->transformers) (1.0.1)\n"
     ]
    },
    {
     "name": "stderr",
     "output_type": "stream",
     "text": [
      "DEPRECATION: pyodbc 4.0.0-unsupported has a non-standard version number. pip 24.1 will enforce this behaviour change. A possible replacement is to upgrade to a newer version of pyodbc or contact the author to suggest that they release a version with a conforming version number. Discussion can be found at https://github.com/pypa/pip/issues/12063\n"
     ]
    },
    {
     "name": "stdout",
     "output_type": "stream",
     "text": [
      "Requirement already satisfied: datasets in c:\\users\\123\\anaconda3\\lib\\site-packages (2.19.1)\n",
      "Requirement already satisfied: filelock in c:\\users\\123\\anaconda3\\lib\\site-packages (from datasets) (3.0.12)\n",
      "Requirement already satisfied: numpy>=1.17 in c:\\users\\123\\anaconda3\\lib\\site-packages (from datasets) (1.19.5)\n",
      "Requirement already satisfied: pyarrow>=12.0.0 in c:\\users\\123\\anaconda3\\lib\\site-packages (from datasets) (16.1.0)\n",
      "Requirement already satisfied: pyarrow-hotfix in c:\\users\\123\\anaconda3\\lib\\site-packages (from datasets) (0.6)\n",
      "Requirement already satisfied: dill<0.3.9,>=0.3.0 in c:\\users\\123\\anaconda3\\lib\\site-packages (from datasets) (0.3.8)\n",
      "Requirement already satisfied: pandas in c:\\users\\123\\anaconda3\\lib\\site-packages (from datasets) (1.2.4)\n",
      "Requirement already satisfied: requests>=2.19.0 in c:\\users\\123\\anaconda3\\lib\\site-packages (from datasets) (2.25.1)\n",
      "Requirement already satisfied: tqdm>=4.62.1 in c:\\users\\123\\anaconda3\\lib\\site-packages (from datasets) (4.66.4)\n",
      "Requirement already satisfied: xxhash in c:\\users\\123\\anaconda3\\lib\\site-packages (from datasets) (3.4.1)\n",
      "Requirement already satisfied: multiprocess in c:\\users\\123\\anaconda3\\lib\\site-packages (from datasets) (0.70.16)\n",
      "Requirement already satisfied: fsspec<=2024.3.1,>=2023.1.0 in c:\\users\\123\\anaconda3\\lib\\site-packages (from fsspec[http]<=2024.3.1,>=2023.1.0->datasets) (2024.3.1)\n",
      "Requirement already satisfied: aiohttp in c:\\users\\123\\anaconda3\\lib\\site-packages (from datasets) (3.9.5)\n",
      "Requirement already satisfied: huggingface-hub>=0.21.2 in c:\\users\\123\\anaconda3\\lib\\site-packages (from datasets) (0.23.0)\n",
      "Requirement already satisfied: packaging in c:\\users\\123\\anaconda3\\lib\\site-packages (from datasets) (20.9)\n",
      "Requirement already satisfied: pyyaml>=5.1 in c:\\users\\123\\anaconda3\\lib\\site-packages (from datasets) (5.4.1)\n",
      "Requirement already satisfied: aiosignal>=1.1.2 in c:\\users\\123\\anaconda3\\lib\\site-packages (from aiohttp->datasets) (1.3.1)\n",
      "Requirement already satisfied: attrs>=17.3.0 in c:\\users\\123\\anaconda3\\lib\\site-packages (from aiohttp->datasets) (20.3.0)\n",
      "Requirement already satisfied: frozenlist>=1.1.1 in c:\\users\\123\\anaconda3\\lib\\site-packages (from aiohttp->datasets) (1.4.1)\n",
      "Requirement already satisfied: multidict<7.0,>=4.5 in c:\\users\\123\\anaconda3\\lib\\site-packages (from aiohttp->datasets) (6.0.5)\n",
      "Requirement already satisfied: yarl<2.0,>=1.0 in c:\\users\\123\\anaconda3\\lib\\site-packages (from aiohttp->datasets) (1.9.4)\n",
      "Requirement already satisfied: async-timeout<5.0,>=4.0 in c:\\users\\123\\anaconda3\\lib\\site-packages (from aiohttp->datasets) (4.0.3)\n",
      "Requirement already satisfied: typing-extensions>=3.7.4.3 in c:\\users\\123\\anaconda3\\lib\\site-packages (from huggingface-hub>=0.21.2->datasets) (4.10.0)\n",
      "Requirement already satisfied: pyparsing>=2.0.2 in c:\\users\\123\\anaconda3\\lib\\site-packages (from packaging->datasets) (2.4.7)\n",
      "Requirement already satisfied: chardet<5,>=3.0.2 in c:\\users\\123\\anaconda3\\lib\\site-packages (from requests>=2.19.0->datasets) (4.0.0)\n",
      "Requirement already satisfied: idna<3,>=2.5 in c:\\users\\123\\anaconda3\\lib\\site-packages (from requests>=2.19.0->datasets) (2.10)\n",
      "Requirement already satisfied: urllib3<1.27,>=1.21.1 in c:\\users\\123\\anaconda3\\lib\\site-packages (from requests>=2.19.0->datasets) (1.26.4)\n",
      "Requirement already satisfied: certifi>=2017.4.17 in c:\\users\\123\\anaconda3\\lib\\site-packages (from requests>=2.19.0->datasets) (2024.2.2)\n",
      "Requirement already satisfied: colorama in c:\\users\\123\\anaconda3\\lib\\site-packages (from tqdm>=4.62.1->datasets) (0.4.6)\n",
      "Requirement already satisfied: python-dateutil>=2.7.3 in c:\\users\\123\\anaconda3\\lib\\site-packages (from pandas->datasets) (2.8.1)\n",
      "Requirement already satisfied: pytz>=2017.3 in c:\\users\\123\\anaconda3\\lib\\site-packages (from pandas->datasets) (2021.1)\n",
      "Requirement already satisfied: six>=1.5 in c:\\users\\123\\anaconda3\\lib\\site-packages (from python-dateutil>=2.7.3->pandas->datasets) (1.15.0)\n"
     ]
    },
    {
     "name": "stderr",
     "output_type": "stream",
     "text": [
      "DEPRECATION: pyodbc 4.0.0-unsupported has a non-standard version number. pip 24.1 will enforce this behaviour change. A possible replacement is to upgrade to a newer version of pyodbc or contact the author to suggest that they release a version with a conforming version number. Discussion can be found at https://github.com/pypa/pip/issues/12063\n"
     ]
    },
    {
     "name": "stdout",
     "output_type": "stream",
     "text": [
      "Requirement already satisfied: bert-extractive-summarizer in c:\\users\\123\\anaconda3\\lib\\site-packages (0.10.1)"
     ]
    },
    {
     "name": "stderr",
     "output_type": "stream",
     "text": [
      "DEPRECATION: pyodbc 4.0.0-unsupported has a non-standard version number. pip 24.1 will enforce this behaviour change. A possible replacement is to upgrade to a newer version of pyodbc or contact the author to suggest that they release a version with a conforming version number. Discussion can be found at https://github.com/pypa/pip/issues/12063\n"
     ]
    },
    {
     "name": "stdout",
     "output_type": "stream",
     "text": [
      "\n",
      "Requirement already satisfied: transformers in c:\\users\\123\\anaconda3\\lib\\site-packages (from bert-extractive-summarizer) (4.14.1)\n",
      "Requirement already satisfied: scikit-learn in c:\\users\\123\\anaconda3\\lib\\site-packages (from bert-extractive-summarizer) (0.24.1)\n",
      "Requirement already satisfied: spacy in c:\\users\\123\\anaconda3\\lib\\site-packages (from bert-extractive-summarizer) (3.7.4)\n",
      "Requirement already satisfied: numpy>=1.13.3 in c:\\users\\123\\anaconda3\\lib\\site-packages (from scikit-learn->bert-extractive-summarizer) (1.19.5)\n",
      "Requirement already satisfied: scipy>=0.19.1 in c:\\users\\123\\anaconda3\\lib\\site-packages (from scikit-learn->bert-extractive-summarizer) (1.6.2)\n",
      "Requirement already satisfied: joblib>=0.11 in c:\\users\\123\\anaconda3\\lib\\site-packages (from scikit-learn->bert-extractive-summarizer) (1.0.1)\n",
      "Requirement already satisfied: threadpoolctl>=2.0.0 in c:\\users\\123\\anaconda3\\lib\\site-packages (from scikit-learn->bert-extractive-summarizer) (2.1.0)\n",
      "Requirement already satisfied: spacy-legacy<3.1.0,>=3.0.11 in c:\\users\\123\\anaconda3\\lib\\site-packages (from spacy->bert-extractive-summarizer) (3.0.12)\n",
      "Requirement already satisfied: spacy-loggers<2.0.0,>=1.0.0 in c:\\users\\123\\anaconda3\\lib\\site-packages (from spacy->bert-extractive-summarizer) (1.0.5)\n",
      "Requirement already satisfied: murmurhash<1.1.0,>=0.28.0 in c:\\users\\123\\anaconda3\\lib\\site-packages (from spacy->bert-extractive-summarizer) (1.0.10)\n",
      "Requirement already satisfied: cymem<2.1.0,>=2.0.2 in c:\\users\\123\\anaconda3\\lib\\site-packages (from spacy->bert-extractive-summarizer) (2.0.8)\n",
      "Requirement already satisfied: preshed<3.1.0,>=3.0.2 in c:\\users\\123\\anaconda3\\lib\\site-packages (from spacy->bert-extractive-summarizer) (3.0.9)\n",
      "Requirement already satisfied: thinc<8.3.0,>=8.2.2 in c:\\users\\123\\anaconda3\\lib\\site-packages (from spacy->bert-extractive-summarizer) (8.2.3)\n",
      "Requirement already satisfied: wasabi<1.2.0,>=0.9.1 in c:\\users\\123\\anaconda3\\lib\\site-packages (from spacy->bert-extractive-summarizer) (1.1.2)\n",
      "Requirement already satisfied: srsly<3.0.0,>=2.4.3 in c:\\users\\123\\anaconda3\\lib\\site-packages (from spacy->bert-extractive-summarizer) (2.4.8)\n",
      "Requirement already satisfied: catalogue<2.1.0,>=2.0.6 in c:\\users\\123\\anaconda3\\lib\\site-packages (from spacy->bert-extractive-summarizer) (2.0.10)\n",
      "Requirement already satisfied: weasel<0.4.0,>=0.1.0 in c:\\users\\123\\anaconda3\\lib\\site-packages (from spacy->bert-extractive-summarizer) (0.3.4)\n",
      "Requirement already satisfied: typer<0.10.0,>=0.3.0 in c:\\users\\123\\anaconda3\\lib\\site-packages (from spacy->bert-extractive-summarizer) (0.9.4)\n",
      "Requirement already satisfied: smart-open<7.0.0,>=5.2.1 in c:\\users\\123\\anaconda3\\lib\\site-packages (from spacy->bert-extractive-summarizer) (6.4.0)\n",
      "Requirement already satisfied: tqdm<5.0.0,>=4.38.0 in c:\\users\\123\\anaconda3\\lib\\site-packages (from spacy->bert-extractive-summarizer) (4.66.4)\n",
      "Requirement already satisfied: requests<3.0.0,>=2.13.0 in c:\\users\\123\\anaconda3\\lib\\site-packages (from spacy->bert-extractive-summarizer) (2.25.1)\n",
      "Requirement already satisfied: pydantic!=1.8,!=1.8.1,<3.0.0,>=1.7.4 in c:\\users\\123\\anaconda3\\lib\\site-packages (from spacy->bert-extractive-summarizer) (2.7.1)\n",
      "Requirement already satisfied: jinja2 in c:\\users\\123\\anaconda3\\lib\\site-packages (from spacy->bert-extractive-summarizer) (2.11.3)\n",
      "Requirement already satisfied: setuptools in c:\\users\\123\\anaconda3\\lib\\site-packages (from spacy->bert-extractive-summarizer) (52.0.0.post20210125)\n",
      "Requirement already satisfied: packaging>=20.0 in c:\\users\\123\\anaconda3\\lib\\site-packages (from spacy->bert-extractive-summarizer) (20.9)\n",
      "Requirement already satisfied: langcodes<4.0.0,>=3.2.0 in c:\\users\\123\\anaconda3\\lib\\site-packages (from spacy->bert-extractive-summarizer) (3.4.0)\n",
      "Requirement already satisfied: filelock in c:\\users\\123\\anaconda3\\lib\\site-packages (from transformers->bert-extractive-summarizer) (3.0.12)\n",
      "Requirement already satisfied: huggingface-hub<1.0,>=0.1.0 in c:\\users\\123\\anaconda3\\lib\\site-packages (from transformers->bert-extractive-summarizer) (0.23.0)\n",
      "Requirement already satisfied: pyyaml>=5.1 in c:\\users\\123\\anaconda3\\lib\\site-packages (from transformers->bert-extractive-summarizer) (5.4.1)\n",
      "Requirement already satisfied: regex!=2019.12.17 in c:\\users\\123\\anaconda3\\lib\\site-packages (from transformers->bert-extractive-summarizer) (2024.5.15)\n",
      "Requirement already satisfied: sacremoses in c:\\users\\123\\anaconda3\\lib\\site-packages (from transformers->bert-extractive-summarizer) (0.0.46)\n",
      "Requirement already satisfied: tokenizers<0.11,>=0.10.1 in c:\\users\\123\\anaconda3\\lib\\site-packages (from transformers->bert-extractive-summarizer) (0.10.3)\n",
      "Requirement already satisfied: fsspec>=2023.5.0 in c:\\users\\123\\anaconda3\\lib\\site-packages (from huggingface-hub<1.0,>=0.1.0->transformers->bert-extractive-summarizer) (2024.3.1)\n",
      "Requirement already satisfied: typing-extensions>=3.7.4.3 in c:\\users\\123\\anaconda3\\lib\\site-packages (from huggingface-hub<1.0,>=0.1.0->transformers->bert-extractive-summarizer) (4.10.0)\n",
      "Requirement already satisfied: language-data>=1.2 in c:\\users\\123\\anaconda3\\lib\\site-packages (from langcodes<4.0.0,>=3.2.0->spacy->bert-extractive-summarizer) (1.2.0)\n",
      "Requirement already satisfied: pyparsing>=2.0.2 in c:\\users\\123\\anaconda3\\lib\\site-packages (from packaging>=20.0->spacy->bert-extractive-summarizer) (2.4.7)\n",
      "Requirement already satisfied: annotated-types>=0.4.0 in c:\\users\\123\\anaconda3\\lib\\site-packages (from pydantic!=1.8,!=1.8.1,<3.0.0,>=1.7.4->spacy->bert-extractive-summarizer) (0.6.0)\n",
      "Requirement already satisfied: pydantic-core==2.18.2 in c:\\users\\123\\anaconda3\\lib\\site-packages (from pydantic!=1.8,!=1.8.1,<3.0.0,>=1.7.4->spacy->bert-extractive-summarizer) (2.18.2)\n",
      "Requirement already satisfied: chardet<5,>=3.0.2 in c:\\users\\123\\anaconda3\\lib\\site-packages (from requests<3.0.0,>=2.13.0->spacy->bert-extractive-summarizer) (4.0.0)\n",
      "Requirement already satisfied: idna<3,>=2.5 in c:\\users\\123\\anaconda3\\lib\\site-packages (from requests<3.0.0,>=2.13.0->spacy->bert-extractive-summarizer) (2.10)\n",
      "Requirement already satisfied: urllib3<1.27,>=1.21.1 in c:\\users\\123\\anaconda3\\lib\\site-packages (from requests<3.0.0,>=2.13.0->spacy->bert-extractive-summarizer) (1.26.4)\n",
      "Requirement already satisfied: certifi>=2017.4.17 in c:\\users\\123\\anaconda3\\lib\\site-packages (from requests<3.0.0,>=2.13.0->spacy->bert-extractive-summarizer) (2024.2.2)\n",
      "Requirement already satisfied: blis<0.8.0,>=0.7.8 in c:\\users\\123\\anaconda3\\lib\\site-packages (from thinc<8.3.0,>=8.2.2->spacy->bert-extractive-summarizer) (0.7.11)\n",
      "Requirement already satisfied: confection<1.0.0,>=0.0.1 in c:\\users\\123\\anaconda3\\lib\\site-packages (from thinc<8.3.0,>=8.2.2->spacy->bert-extractive-summarizer) (0.1.4)\n",
      "Requirement already satisfied: colorama in c:\\users\\123\\anaconda3\\lib\\site-packages (from tqdm<5.0.0,>=4.38.0->spacy->bert-extractive-summarizer) (0.4.6)\n",
      "Requirement already satisfied: click<9.0.0,>=7.1.1 in c:\\users\\123\\anaconda3\\lib\\site-packages (from typer<0.10.0,>=0.3.0->spacy->bert-extractive-summarizer) (7.1.2)\n",
      "Requirement already satisfied: cloudpathlib<0.17.0,>=0.7.0 in c:\\users\\123\\anaconda3\\lib\\site-packages (from weasel<0.4.0,>=0.1.0->spacy->bert-extractive-summarizer) (0.16.0)\n",
      "Requirement already satisfied: MarkupSafe>=0.23 in c:\\users\\123\\anaconda3\\lib\\site-packages (from jinja2->spacy->bert-extractive-summarizer) (1.1.1)\n",
      "Requirement already satisfied: six in c:\\users\\123\\anaconda3\\lib\\site-packages (from sacremoses->transformers->bert-extractive-summarizer) (1.15.0)\n",
      "Requirement already satisfied: marisa-trie>=0.7.7 in c:\\users\\123\\anaconda3\\lib\\site-packages (from language-data>=1.2->langcodes<4.0.0,>=3.2.0->spacy->bert-extractive-summarizer) (1.1.1)\n",
      "Requirement already satisfied: rouge-score in c:\\users\\123\\anaconda3\\lib\\site-packages (0.1.2)"
     ]
    },
    {
     "name": "stderr",
     "output_type": "stream",
     "text": [
      "DEPRECATION: pyodbc 4.0.0-unsupported has a non-standard version number. pip 24.1 will enforce this behaviour change. A possible replacement is to upgrade to a newer version of pyodbc or contact the author to suggest that they release a version with a conforming version number. Discussion can be found at https://github.com/pypa/pip/issues/12063\n"
     ]
    },
    {
     "name": "stdout",
     "output_type": "stream",
     "text": [
      "\n",
      "Requirement already satisfied: absl-py in c:\\users\\123\\anaconda3\\lib\\site-packages (from rouge-score) (0.13.0)\n",
      "Requirement already satisfied: nltk in c:\\users\\123\\anaconda3\\lib\\site-packages (from rouge-score) (3.8.1)\n",
      "Requirement already satisfied: numpy in c:\\users\\123\\anaconda3\\lib\\site-packages (from rouge-score) (1.19.5)\n",
      "Requirement already satisfied: six>=1.14.0 in c:\\users\\123\\anaconda3\\lib\\site-packages (from rouge-score) (1.15.0)\n",
      "Requirement already satisfied: click in c:\\users\\123\\anaconda3\\lib\\site-packages (from nltk->rouge-score) (7.1.2)\n",
      "Requirement already satisfied: joblib in c:\\users\\123\\anaconda3\\lib\\site-packages (from nltk->rouge-score) (1.0.1)\n",
      "Requirement already satisfied: regex>=2021.8.3 in c:\\users\\123\\anaconda3\\lib\\site-packages (from nltk->rouge-score) (2024.5.15)\n",
      "Requirement already satisfied: tqdm in c:\\users\\123\\anaconda3\\lib\\site-packages (from nltk->rouge-score) (4.66.4)\n",
      "Requirement already satisfied: colorama in c:\\users\\123\\anaconda3\\lib\\site-packages (from tqdm->nltk->rouge-score) (0.4.6)\n"
     ]
    }
   ],
   "source": [
    "!pip install torch\n",
    "!pip install pandas\n",
    "!pip install transformers\n",
    "!pip install datasets\n",
    "!pip install bert-extractive-summarizer\n",
    "!pip install rouge-score"
   ]
  },
  {
   "cell_type": "code",
   "execution_count": 2,
   "metadata": {
    "colab": {
     "base_uri": "https://localhost:8080/"
    },
    "id": "NeYoYPnYY4cy",
    "outputId": "918b8f76-c5b3-4ab2-afdb-eaf9f79d3ba8"
   },
   "outputs": [
    {
     "name": "stdout",
     "output_type": "stream",
     "text": [
      "                                         id  \\\n",
      "0  b1abfc993a55b7b27001e8a692e5ac6f20825d05   \n",
      "1  006dd02051a6d228fa3841ab555fced21fccdf1e   \n",
      "2  bc31ad108b7dbc7f8489c4ea2426d3340a912333   \n",
      "3  a5227658a7f7f58286c9175a8cd471c5e946050a   \n",
      "4  a9d8a27ef232db714a45bf44c468859ad57422c9   \n",
      "\n",
      "                                             article  \\\n",
      "0  (CNN) -- Flamboyant carnival musician Michel M...   \n",
      "1  Kenyan counterterrorism sources are looking at...   \n",
      "2  Unmanned aerial vehicles aren't generally thou...   \n",
      "3  Washington (CNN) -- One of two photojournalist...   \n",
      "4  (CNN)A nurse who was quarantined against her w...   \n",
      "\n",
      "                                             summary  \n",
      "0  NEW: Streets fill with jubilant Michel Martell...  \n",
      "1  A Norwegian citizen of Somali descent is inves...  \n",
      "2  The UAE launched the Drones for Good Award las...  \n",
      "3  Footage of U.S. helicopter attack on two Reute...  \n",
      "4  Nurse Kaci Hickox: \"I don't plan on sticking t...  \n",
      "Min: 32\n",
      "Max: 1876\n",
      "Avg: 726.367\n",
      "Median: 683.0\n",
      "Standard Deviation: 358.55773590215875\n",
      "Variance: 128563.64997528224\n"
     ]
    }
   ],
   "source": [
    "import pandas as pd\n",
    "import numpy as np\n",
    "\n",
    "# Load and print the first few rows of the cleaned chunk\n",
    "clean_chunk_df = pd.read_csv('clean_cnn_chunk_2.csv')\n",
    "clean_chunk_df = clean_chunk_df[:7000]\n",
    "print(clean_chunk_df.head())\n",
    "\n",
    "#print the min-avg-max-median of the length of the articles\n",
    "article_length = clean_chunk_df['article'].apply(lambda x: len(str(x).split()))\n",
    "print(f\"Min: {article_length.min()}\")\n",
    "print(f\"Max: {article_length.max()}\")\n",
    "print(f\"Avg: {article_length.mean()}\")\n",
    "print(f\"Median: {article_length.median()}\")\n",
    "print(f\"Standard Deviation: {article_length.std()}\")\n",
    "print(f\"Variance: {article_length.var()}\")"
   ]
  },
  {
   "cell_type": "code",
   "execution_count": 3,
   "metadata": {
    "colab": {
     "base_uri": "https://localhost:8080/"
    },
    "id": "xv-k0yITYb6b",
    "outputId": "3454620d-f091-48c3-fd8d-1b1b8452dfd3"
   },
   "outputs": [
    {
     "name": "stdout",
     "output_type": "stream",
     "text": [
      "      Unnamed: 0                                        id  \\\n",
      "0              0  b1abfc993a55b7b27001e8a692e5ac6f20825d05   \n",
      "1              1  006dd02051a6d228fa3841ab555fced21fccdf1e   \n",
      "2              2  bc31ad108b7dbc7f8489c4ea2426d3340a912333   \n",
      "3              3  a5227658a7f7f58286c9175a8cd471c5e946050a   \n",
      "4              4  a9d8a27ef232db714a45bf44c468859ad57422c9   \n",
      "...          ...                                       ...   \n",
      "6995        6995  152f019e80a4bfde00d6c5336e223378809b42d8   \n",
      "6996        6996  699caf8796e084b9a9b0ab883bc67e36447376fc   \n",
      "6997        6997  bd3ac2a8d295d79607d16538796e1200578ca249   \n",
      "6998        6998  fbd38f25ec1bf15c05d22e6129e4e35411e7e2c7   \n",
      "6999        6999  053807e2c95e38ce2ba87c08211cf0751670165b   \n",
      "\n",
      "                                                article  \\\n",
      "0     (CNN) -- Flamboyant carnival musician Michel M...   \n",
      "1     Kenyan counterterrorism sources are looking at...   \n",
      "2     Unmanned aerial vehicles aren't generally thou...   \n",
      "3     Washington (CNN) -- One of two photojournalist...   \n",
      "4     (CNN)A nurse who was quarantined against her w...   \n",
      "...                                                 ...   \n",
      "6995  Apparently, when it comes to Middle-earth, dir...   \n",
      "6996  The United States upped pressure on Moscow ove...   \n",
      "6997  It's all John Green's fault. I'm not just talk...   \n",
      "6998  A Ukrainian journalist working as a freelancer...   \n",
      "6999  While Iraq's military claimed Wednesday to hav...   \n",
      "\n",
      "                                                summary  \\\n",
      "0     NEW: Streets fill with jubilant Michel Martell...   \n",
      "1     A Norwegian citizen of Somali descent is inves...   \n",
      "2     The UAE launched the Drones for Good Award las...   \n",
      "3     Footage of U.S. helicopter attack on two Reute...   \n",
      "4     Nurse Kaci Hickox: \"I don't plan on sticking t...   \n",
      "...                                                 ...   \n",
      "6995  Peter Jackson has announced \"The Hobbit\" will ...   \n",
      "6996  John Kerry said \"extraordinary\" evidence point...   \n",
      "6997  Slate's Ruth Graham wrote that adults should b...   \n",
      "6998  State Department spokeswoman condemned what sh...   \n",
      "6999  Vice President Biden stresses need for nationa...   \n",
      "\n",
      "                                      generated_summary  \\\n",
      "0     (CNN) -- Flamboyant carnival musician Michel M...   \n",
      "1     Kenyan counterterrorism sources are looking at...   \n",
      "2     Unmanned aerial vehicles aren't generally thou...   \n",
      "3     Washington (CNN) -- One of two photojournalist...   \n",
      "4     (CNN)A nurse who was quarantined against her w...   \n",
      "...                                                 ...   \n",
      "6995  Apparently, when it comes to Middle-earth, dir...   \n",
      "6996  The United States upped pressure on Moscow ove...   \n",
      "6997  I'm not just talking about the strong likeliho...   \n",
      "6998  A Ukrainian journalist working as a freelancer...   \n",
      "6999  While Iraq's military claimed Wednesday to hav...   \n",
      "\n",
      "                                           rouge_scores  \n",
      "0     {'rouge1': Score(precision=0.2524271844660194,...  \n",
      "1     {'rouge1': Score(precision=0.192090395480226, ...  \n",
      "2     {'rouge1': Score(precision=0.20192307692307693...  \n",
      "3     {'rouge1': Score(precision=0.2054794520547945,...  \n",
      "4     {'rouge1': Score(precision=0.10891089108910891...  \n",
      "...                                                 ...  \n",
      "6995  {'rouge1': Score(precision=0.3333333333333333,...  \n",
      "6996  {'rouge1': Score(precision=0.16666666666666666...  \n",
      "6997  {'rouge1': Score(precision=0.12698412698412698...  \n",
      "6998  {'rouge1': Score(precision=0.174496644295302, ...  \n",
      "6999  {'rouge1': Score(precision=0.07650273224043716...  \n",
      "\n",
      "[7000 rows x 6 columns]\n"
     ]
    }
   ],
   "source": [
    "from rouge_score import rouge_scorer, scoring\n",
    "\n",
    "results_df = pd.read_excel('chunk2_generated_summaries.xlsx')\n",
    "results_df = results_df[:7000]\n",
    "print(results_df)"
   ]
  },
  {
   "cell_type": "code",
   "execution_count": 4,
   "metadata": {
    "colab": {
     "base_uri": "https://localhost:8080/"
    },
    "id": "G13aE-wOYN6y",
    "outputId": "18149564-64f5-4575-bb03-740710ae0188"
   },
   "outputs": [
    {
     "name": "stdout",
     "output_type": "stream",
     "text": [
      "rouge1:\n",
      " Precision: 0.1753, Recall: 0.5334, F1: 0.2537\n",
      "rouge2:\n",
      " Precision: 0.0557, Recall: 0.1635, F1: 0.0797\n",
      "rougeL:\n",
      " Precision: 0.1096, Recall: 0.3312, F1: 0.1582\n"
     ]
    }
   ],
   "source": [
    "generated_summaries = results_df['generated_summary']\n",
    "\n",
    "reference_summaries = results_df['summary']\n",
    "\n",
    "# Initialize the ROUGE scorer\n",
    "scorer = rouge_scorer.RougeScorer(['rouge1', 'rouge2', 'rougeL'], use_stemmer=True)\n",
    "aggregator = scoring.BootstrapAggregator()\n",
    "\n",
    "# Calculate ROUGE scores for each pair of generated and reference summaries\n",
    "for gen_summary, ref_summary in zip(generated_summaries, reference_summaries):\n",
    "    scores = scorer.score(ref_summary, gen_summary)\n",
    "    aggregator.add_scores(scores)\n",
    "\n",
    "result = aggregator.aggregate()\n",
    "for key, value in result.items():\n",
    "    print(f'{key}:\\n Precision: {value.mid.precision:.4f}, Recall: {value.mid.recall:.4f}, F1: {value.mid.fmeasure:.4f}')"
   ]
  },
  {
   "cell_type": "code",
   "execution_count": 5,
   "metadata": {
    "colab": {
     "base_uri": "https://localhost:8080/"
    },
    "id": "M9OOsDyDxyzR",
    "outputId": "ece8bb94-ae1f-4f2a-aa54-ecbfa57f233a"
   },
   "outputs": [
    {
     "name": "stdout",
     "output_type": "stream",
     "text": [
      "Requirement already satisfied: bert_score in c:\\users\\123\\anaconda3\\lib\\site-packages (0.3.13)\n",
      "Requirement already satisfied: torch>=1.0.0 in c:\\users\\123\\anaconda3\\lib\\site-packages (from bert_score) (2.3.0)\n",
      "Requirement already satisfied: pandas>=1.0.1 in c:\\users\\123\\anaconda3\\lib\\site-packages (from bert_score) (1.2.4)\n",
      "Requirement already satisfied: transformers>=3.0.0 in c:\\users\\123\\anaconda3\\lib\\site-packages (from bert_score) (4.14.1)\n",
      "Requirement already satisfied: numpy in c:\\users\\123\\anaconda3\\lib\\site-packages (from bert_score) (1.19.5)\n",
      "Requirement already satisfied: requests in c:\\users\\123\\anaconda3\\lib\\site-packages (from bert_score) (2.25.1)\n",
      "Requirement already satisfied: tqdm>=4.31.1 in c:\\users\\123\\anaconda3\\lib\\site-packages (from bert_score) (4.66.4)\n",
      "Requirement already satisfied: matplotlib in c:\\users\\123\\anaconda3\\lib\\site-packages (from bert_score) (3.3.4)\n",
      "Requirement already satisfied: packaging>=20.9 in c:\\users\\123\\anaconda3\\lib\\site-packages (from bert_score) (20.9)\n",
      "Requirement already satisfied: pyparsing>=2.0.2 in c:\\users\\123\\anaconda3\\lib\\site-packages (from packaging>=20.9->bert_score) (2.4.7)\n",
      "Requirement already satisfied: python-dateutil>=2.7.3 in c:\\users\\123\\anaconda3\\lib\\site-packages (from pandas>=1.0.1->bert_score) (2.8.1)\n",
      "Requirement already satisfied: pytz>=2017.3 in c:\\users\\123\\anaconda3\\lib\\site-packages (from pandas>=1.0.1->bert_score) (2021.1)\n",
      "Requirement already satisfied: filelock in c:\\users\\123\\anaconda3\\lib\\site-packages (from torch>=1.0.0->bert_score) (3.0.12)\n",
      "Requirement already satisfied: typing-extensions>=4.8.0 in c:\\users\\123\\anaconda3\\lib\\site-packages (from torch>=1.0.0->bert_score) (4.10.0)\n",
      "Requirement already satisfied: sympy in c:\\users\\123\\anaconda3\\lib\\site-packages (from torch>=1.0.0->bert_score) (1.8)\n",
      "Requirement already satisfied: networkx in c:\\users\\123\\anaconda3\\lib\\site-packages (from torch>=1.0.0->bert_score) (2.5)\n",
      "Requirement already satisfied: jinja2 in c:\\users\\123\\anaconda3\\lib\\site-packages (from torch>=1.0.0->bert_score) (2.11.3)\n",
      "Requirement already satisfied: fsspec in c:\\users\\123\\anaconda3\\lib\\site-packages (from torch>=1.0.0->bert_score) (2024.3.1)\n",
      "Requirement already satisfied: mkl<=2021.4.0,>=2021.1.1 in c:\\users\\123\\anaconda3\\lib\\site-packages (from torch>=1.0.0->bert_score) (2021.4.0)\n",
      "Requirement already satisfied: colorama in c:\\users\\123\\anaconda3\\lib\\site-packages (from tqdm>=4.31.1->bert_score) (0.4.6)\n",
      "Requirement already satisfied: huggingface-hub<1.0,>=0.1.0 in c:\\users\\123\\anaconda3\\lib\\site-packages (from transformers>=3.0.0->bert_score) (0.23.0)\n",
      "Requirement already satisfied: pyyaml>=5.1 in c:\\users\\123\\anaconda3\\lib\\site-packages (from transformers>=3.0.0->bert_score) (5.4.1)\n",
      "Requirement already satisfied: regex!=2019.12.17 in c:\\users\\123\\anaconda3\\lib\\site-packages (from transformers>=3.0.0->bert_score) (2024.5.15)\n",
      "Requirement already satisfied: sacremoses in c:\\users\\123\\anaconda3\\lib\\site-packages (from transformers>=3.0.0->bert_score) (0.0.46)\n",
      "Requirement already satisfied: tokenizers<0.11,>=0.10.1 in c:\\users\\123\\anaconda3\\lib\\site-packages (from transformers>=3.0.0->bert_score) (0.10.3)\n",
      "Requirement already satisfied: cycler>=0.10 in c:\\users\\123\\anaconda3\\lib\\site-packages (from matplotlib->bert_score) (0.10.0)\n",
      "Requirement already satisfied: kiwisolver>=1.0.1 in c:\\users\\123\\anaconda3\\lib\\site-packages (from matplotlib->bert_score) (1.3.1)\n",
      "Requirement already satisfied: pillow>=6.2.0 in c:\\users\\123\\anaconda3\\lib\\site-packages (from matplotlib->bert_score) (8.2.0)\n",
      "Requirement already satisfied: chardet<5,>=3.0.2 in c:\\users\\123\\anaconda3\\lib\\site-packages (from requests->bert_score) (4.0.0)\n",
      "Requirement already satisfied: idna<3,>=2.5 in c:\\users\\123\\anaconda3\\lib\\site-packages (from requests->bert_score) (2.10)\n",
      "Requirement already satisfied: urllib3<1.27,>=1.21.1 in c:\\users\\123\\anaconda3\\lib\\site-packages (from requests->bert_score) (1.26.4)\n",
      "Requirement already satisfied: certifi>=2017.4.17 in c:\\users\\123\\anaconda3\\lib\\site-packages (from requests->bert_score) (2024.2.2)\n",
      "Requirement already satisfied: six in c:\\users\\123\\anaconda3\\lib\\site-packages (from cycler>=0.10->matplotlib->bert_score) (1.15.0)\n",
      "Requirement already satisfied: intel-openmp==2021.* in c:\\users\\123\\anaconda3\\lib\\site-packages (from mkl<=2021.4.0,>=2021.1.1->torch>=1.0.0->bert_score) (2021.4.0)\n",
      "Requirement already satisfied: tbb==2021.* in c:\\users\\123\\anaconda3\\lib\\site-packages (from mkl<=2021.4.0,>=2021.1.1->torch>=1.0.0->bert_score) (2021.12.0)\n",
      "Requirement already satisfied: MarkupSafe>=0.23 in c:\\users\\123\\anaconda3\\lib\\site-packages (from jinja2->torch>=1.0.0->bert_score) (1.1.1)\n",
      "Requirement already satisfied: decorator>=4.3.0 in c:\\users\\123\\anaconda3\\lib\\site-packages (from networkx->torch>=1.0.0->bert_score) (5.0.6)\n",
      "Requirement already satisfied: click in c:\\users\\123\\anaconda3\\lib\\site-packages (from sacremoses->transformers>=3.0.0->bert_score) (7.1.2)\n",
      "Requirement already satisfied: joblib in c:\\users\\123\\anaconda3\\lib\\site-packages (from sacremoses->transformers>=3.0.0->bert_score) (1.0.1)\n",
      "Requirement already satisfied: mpmath>=0.19 in c:\\users\\123\\anaconda3\\lib\\site-packages (from sympy->torch>=1.0.0->bert_score) (1.2.1)\n"
     ]
    },
    {
     "name": "stderr",
     "output_type": "stream",
     "text": [
      "DEPRECATION: pyodbc 4.0.0-unsupported has a non-standard version number. pip 24.1 will enforce this behaviour change. A possible replacement is to upgrade to a newer version of pyodbc or contact the author to suggest that they release a version with a conforming version number. Discussion can be found at https://github.com/pypa/pip/issues/12063\n"
     ]
    }
   ],
   "source": [
    "!pip install bert_score"
   ]
  },
  {
   "cell_type": "code",
   "execution_count": 11,
   "metadata": {
    "colab": {
     "base_uri": "https://localhost:8080/",
     "height": 257,
     "referenced_widgets": [
      "30027c741e6741fcb68b9ba98e3a8a7b",
      "4623eb91a5454062a20a523861c694a5",
      "57027545ee714df884e460cac42fd979",
      "5cc596cb96e74255ad4694fcb906d055",
      "497cd24f163c4cb58953df29fedc9da1",
      "5c8e2f05fb4546d38da49e6f0963591a",
      "bbc2fb5ebf8849afbb02f8c507706bb5",
      "4254598c3a824a33a6ac7913180c875c",
      "aa2e0a4a8345473c9d5d5e5b2c3c8793",
      "6880a6841e704a099af6843acafdf744",
      "4b94955e3abc4d5d8847c89c3c4ef503",
      "1467cbf83f2242b09737678da91711f3",
      "9f31bc24270f40fab7ce1f7bd8c82d6f",
      "223ba59a637e4fef9737267270384278",
      "676e7837e2e746aebf0c8e5164136fdf",
      "b6552ea9759b47c8933fd82d58351180",
      "a411a1d747a04700add4f8f84647b9d6",
      "80c4a2f62cf744eea7f0fb6e2da1abe8",
      "9126a5d4c61142adb6dafd407d77da62",
      "67dc8255e5e9417883ff9b3e0308a45c",
      "435990ebc2a24e3aae860dc8cd03fe3d",
      "606767680bee40a6824ff1598b89a7bb"
     ]
    },
    "id": "ojSMfvz6oSLC",
    "outputId": "6eec60fa-3531-4ef7-da72-1b3ea186f8e7"
   },
   "outputs": [
    {
     "name": "stderr",
     "output_type": "stream",
     "text": [
      "Some weights of the model checkpoint at roberta-large were not used when initializing RobertaModel: ['lm_head.layer_norm.weight', 'lm_head.dense.bias', 'lm_head.dense.weight', 'lm_head.decoder.weight', 'lm_head.layer_norm.bias', 'lm_head.bias']\n",
      "- This IS expected if you are initializing RobertaModel from the checkpoint of a model trained on another task or with another architecture (e.g. initializing a BertForSequenceClassification model from a BertForPreTraining model).\n",
      "- This IS NOT expected if you are initializing RobertaModel from the checkpoint of a model that you expect to be exactly identical (initializing a BertForSequenceClassification model from a BertForSequenceClassification model).\n"
     ]
    },
    {
     "name": "stdout",
     "output_type": "stream",
     "text": [
      "calculating scores...\n",
      "computing bert embedding.\n"
     ]
    },
    {
     "data": {
      "application/vnd.jupyter.widget-view+json": {
       "model_id": "c7770e5798ac48fe830df2abd1080ecb",
       "version_major": 2,
       "version_minor": 0
      },
      "text/plain": [
       "  0%|          | 0/125 [00:00<?, ?it/s]"
      ]
     },
     "metadata": {},
     "output_type": "display_data"
    },
    {
     "name": "stdout",
     "output_type": "stream",
     "text": [
      "computing greedy matching.\n"
     ]
    },
    {
     "data": {
      "application/vnd.jupyter.widget-view+json": {
       "model_id": "4f71aa6448c240b3b6dee8c3009890ac",
       "version_major": 2,
       "version_minor": 0
      },
      "text/plain": [
       "  0%|          | 0/63 [00:00<?, ?it/s]"
      ]
     },
     "metadata": {},
     "output_type": "display_data"
    },
    {
     "name": "stdout",
     "output_type": "stream",
     "text": [
      "done in 8249.96 seconds, 0.48 sentences/sec\n",
      "BERTScore Precision:  0.8315078020095825\n",
      "BERTScore Recall:  0.8679410815238953\n",
      "BERTScore F1:  0.849224865436554\n"
     ]
    }
   ],
   "source": [
    "from bert_score import score as bert_score\n",
    "\n",
    "generated_summaries = [summary.replace('\\n', ' ') for summary in generated_summaries]\n",
    "reference_summaries = [summary.replace('\\n', ' ') for summary in reference_summaries]\n",
    "\n",
    "# BERTScore Evaluation\n",
    "P, R, F1 = bert_score(generated_summaries[3000:], reference_summaries[3000:], lang=\"en\", verbose=True)\n",
    "print(\"BERTScore Precision: \", P.mean().item())\n",
    "print(\"BERTScore Recall: \", R.mean().item())\n",
    "print(\"BERTScore F1: \", F1.mean().item())"
   ]
  },
  {
   "cell_type": "code",
   "execution_count": 9,
   "metadata": {},
   "outputs": [],
   "source": [
    "results_df[\"BERTScore Precision\"] = pd.Series(P)\n",
    "results_df[\"BERTScore Recall\"] = pd.Series(R)\n",
    "results_df[\"BERTScore F1\"] = pd.Series(F1)\n",
    "\n",
    "\n",
    "results_df.to_excel('bert_scores.xlsx', index=True)"
   ]
  },
  {
   "cell_type": "code",
   "execution_count": 27,
   "metadata": {},
   "outputs": [
    {
     "name": "stdout",
     "output_type": "stream",
     "text": [
      "0       0.860611\n",
      "1       0.868631\n",
      "2       0.867137\n",
      "3       0.860462\n",
      "4       0.845282\n",
      "          ...   \n",
      "6995    0.901622\n",
      "6996    0.834643\n",
      "6997    0.814370\n",
      "6998    0.851312\n",
      "6999    0.823055\n",
      "Name: BERTScore F1, Length: 7000, dtype: float64\n"
     ]
    }
   ],
   "source": [
    "F1_old = results_df[\"BERTScore F1\"].dropna().tolist()\n",
    "F1 = F1.tolist()\n",
    "F1_new = F1_old + F1\n",
    "results_df[\"BERTScore F1\"] = F1_new\n",
    "print(results_df[\"BERTScore F1\"])"
   ]
  },
  {
   "cell_type": "code",
   "execution_count": 28,
   "metadata": {},
   "outputs": [],
   "source": [
    "results_df.to_excel('bert_scores.xlsx', index=True)"
   ]
  },
  {
   "cell_type": "code",
   "execution_count": null,
   "metadata": {},
   "outputs": [],
   "source": []
  }
 ],
 "metadata": {
  "colab": {
   "provenance": []
  },
  "kernelspec": {
   "display_name": "Python 3",
   "language": "python",
   "name": "python3"
  },
  "language_info": {
   "codemirror_mode": {
    "name": "ipython",
    "version": 3
   },
   "file_extension": ".py",
   "mimetype": "text/x-python",
   "name": "python",
   "nbconvert_exporter": "python",
   "pygments_lexer": "ipython3",
   "version": "3.8.8"
  },
  "widgets": {
   "application/vnd.jupyter.widget-state+json": {
    "1467cbf83f2242b09737678da91711f3": {
     "model_module": "@jupyter-widgets/controls",
     "model_module_version": "1.5.0",
     "model_name": "HBoxModel",
     "state": {
      "_dom_classes": [],
      "_model_module": "@jupyter-widgets/controls",
      "_model_module_version": "1.5.0",
      "_model_name": "HBoxModel",
      "_view_count": null,
      "_view_module": "@jupyter-widgets/controls",
      "_view_module_version": "1.5.0",
      "_view_name": "HBoxView",
      "box_style": "",
      "children": [
       "IPY_MODEL_9f31bc24270f40fab7ce1f7bd8c82d6f",
       "IPY_MODEL_223ba59a637e4fef9737267270384278",
       "IPY_MODEL_676e7837e2e746aebf0c8e5164136fdf"
      ],
      "layout": "IPY_MODEL_b6552ea9759b47c8933fd82d58351180"
     }
    },
    "223ba59a637e4fef9737267270384278": {
     "model_module": "@jupyter-widgets/controls",
     "model_module_version": "1.5.0",
     "model_name": "FloatProgressModel",
     "state": {
      "_dom_classes": [],
      "_model_module": "@jupyter-widgets/controls",
      "_model_module_version": "1.5.0",
      "_model_name": "FloatProgressModel",
      "_view_count": null,
      "_view_module": "@jupyter-widgets/controls",
      "_view_module_version": "1.5.0",
      "_view_name": "ProgressView",
      "bar_style": "success",
      "description": "",
      "description_tooltip": null,
      "layout": "IPY_MODEL_9126a5d4c61142adb6dafd407d77da62",
      "max": 16,
      "min": 0,
      "orientation": "horizontal",
      "style": "IPY_MODEL_67dc8255e5e9417883ff9b3e0308a45c",
      "value": 16
     }
    },
    "30027c741e6741fcb68b9ba98e3a8a7b": {
     "model_module": "@jupyter-widgets/controls",
     "model_module_version": "1.5.0",
     "model_name": "HBoxModel",
     "state": {
      "_dom_classes": [],
      "_model_module": "@jupyter-widgets/controls",
      "_model_module_version": "1.5.0",
      "_model_name": "HBoxModel",
      "_view_count": null,
      "_view_module": "@jupyter-widgets/controls",
      "_view_module_version": "1.5.0",
      "_view_name": "HBoxView",
      "box_style": "",
      "children": [
       "IPY_MODEL_4623eb91a5454062a20a523861c694a5",
       "IPY_MODEL_57027545ee714df884e460cac42fd979",
       "IPY_MODEL_5cc596cb96e74255ad4694fcb906d055"
      ],
      "layout": "IPY_MODEL_497cd24f163c4cb58953df29fedc9da1"
     }
    },
    "4254598c3a824a33a6ac7913180c875c": {
     "model_module": "@jupyter-widgets/base",
     "model_module_version": "1.2.0",
     "model_name": "LayoutModel",
     "state": {
      "_model_module": "@jupyter-widgets/base",
      "_model_module_version": "1.2.0",
      "_model_name": "LayoutModel",
      "_view_count": null,
      "_view_module": "@jupyter-widgets/base",
      "_view_module_version": "1.2.0",
      "_view_name": "LayoutView",
      "align_content": null,
      "align_items": null,
      "align_self": null,
      "border": null,
      "bottom": null,
      "display": null,
      "flex": null,
      "flex_flow": null,
      "grid_area": null,
      "grid_auto_columns": null,
      "grid_auto_flow": null,
      "grid_auto_rows": null,
      "grid_column": null,
      "grid_gap": null,
      "grid_row": null,
      "grid_template_areas": null,
      "grid_template_columns": null,
      "grid_template_rows": null,
      "height": null,
      "justify_content": null,
      "justify_items": null,
      "left": null,
      "margin": null,
      "max_height": null,
      "max_width": null,
      "min_height": null,
      "min_width": null,
      "object_fit": null,
      "object_position": null,
      "order": null,
      "overflow": null,
      "overflow_x": null,
      "overflow_y": null,
      "padding": null,
      "right": null,
      "top": null,
      "visibility": null,
      "width": null
     }
    },
    "435990ebc2a24e3aae860dc8cd03fe3d": {
     "model_module": "@jupyter-widgets/base",
     "model_module_version": "1.2.0",
     "model_name": "LayoutModel",
     "state": {
      "_model_module": "@jupyter-widgets/base",
      "_model_module_version": "1.2.0",
      "_model_name": "LayoutModel",
      "_view_count": null,
      "_view_module": "@jupyter-widgets/base",
      "_view_module_version": "1.2.0",
      "_view_name": "LayoutView",
      "align_content": null,
      "align_items": null,
      "align_self": null,
      "border": null,
      "bottom": null,
      "display": null,
      "flex": null,
      "flex_flow": null,
      "grid_area": null,
      "grid_auto_columns": null,
      "grid_auto_flow": null,
      "grid_auto_rows": null,
      "grid_column": null,
      "grid_gap": null,
      "grid_row": null,
      "grid_template_areas": null,
      "grid_template_columns": null,
      "grid_template_rows": null,
      "height": null,
      "justify_content": null,
      "justify_items": null,
      "left": null,
      "margin": null,
      "max_height": null,
      "max_width": null,
      "min_height": null,
      "min_width": null,
      "object_fit": null,
      "object_position": null,
      "order": null,
      "overflow": null,
      "overflow_x": null,
      "overflow_y": null,
      "padding": null,
      "right": null,
      "top": null,
      "visibility": null,
      "width": null
     }
    },
    "4623eb91a5454062a20a523861c694a5": {
     "model_module": "@jupyter-widgets/controls",
     "model_module_version": "1.5.0",
     "model_name": "HTMLModel",
     "state": {
      "_dom_classes": [],
      "_model_module": "@jupyter-widgets/controls",
      "_model_module_version": "1.5.0",
      "_model_name": "HTMLModel",
      "_view_count": null,
      "_view_module": "@jupyter-widgets/controls",
      "_view_module_version": "1.5.0",
      "_view_name": "HTMLView",
      "description": "",
      "description_tooltip": null,
      "layout": "IPY_MODEL_5c8e2f05fb4546d38da49e6f0963591a",
      "placeholder": "​",
      "style": "IPY_MODEL_bbc2fb5ebf8849afbb02f8c507706bb5",
      "value": "100%"
     }
    },
    "497cd24f163c4cb58953df29fedc9da1": {
     "model_module": "@jupyter-widgets/base",
     "model_module_version": "1.2.0",
     "model_name": "LayoutModel",
     "state": {
      "_model_module": "@jupyter-widgets/base",
      "_model_module_version": "1.2.0",
      "_model_name": "LayoutModel",
      "_view_count": null,
      "_view_module": "@jupyter-widgets/base",
      "_view_module_version": "1.2.0",
      "_view_name": "LayoutView",
      "align_content": null,
      "align_items": null,
      "align_self": null,
      "border": null,
      "bottom": null,
      "display": null,
      "flex": null,
      "flex_flow": null,
      "grid_area": null,
      "grid_auto_columns": null,
      "grid_auto_flow": null,
      "grid_auto_rows": null,
      "grid_column": null,
      "grid_gap": null,
      "grid_row": null,
      "grid_template_areas": null,
      "grid_template_columns": null,
      "grid_template_rows": null,
      "height": null,
      "justify_content": null,
      "justify_items": null,
      "left": null,
      "margin": null,
      "max_height": null,
      "max_width": null,
      "min_height": null,
      "min_width": null,
      "object_fit": null,
      "object_position": null,
      "order": null,
      "overflow": null,
      "overflow_x": null,
      "overflow_y": null,
      "padding": null,
      "right": null,
      "top": null,
      "visibility": null,
      "width": null
     }
    },
    "4b94955e3abc4d5d8847c89c3c4ef503": {
     "model_module": "@jupyter-widgets/controls",
     "model_module_version": "1.5.0",
     "model_name": "DescriptionStyleModel",
     "state": {
      "_model_module": "@jupyter-widgets/controls",
      "_model_module_version": "1.5.0",
      "_model_name": "DescriptionStyleModel",
      "_view_count": null,
      "_view_module": "@jupyter-widgets/base",
      "_view_module_version": "1.2.0",
      "_view_name": "StyleView",
      "description_width": ""
     }
    },
    "57027545ee714df884e460cac42fd979": {
     "model_module": "@jupyter-widgets/controls",
     "model_module_version": "1.5.0",
     "model_name": "FloatProgressModel",
     "state": {
      "_dom_classes": [],
      "_model_module": "@jupyter-widgets/controls",
      "_model_module_version": "1.5.0",
      "_model_name": "FloatProgressModel",
      "_view_count": null,
      "_view_module": "@jupyter-widgets/controls",
      "_view_module_version": "1.5.0",
      "_view_name": "ProgressView",
      "bar_style": "success",
      "description": "",
      "description_tooltip": null,
      "layout": "IPY_MODEL_4254598c3a824a33a6ac7913180c875c",
      "max": 32,
      "min": 0,
      "orientation": "horizontal",
      "style": "IPY_MODEL_aa2e0a4a8345473c9d5d5e5b2c3c8793",
      "value": 32
     }
    },
    "5c8e2f05fb4546d38da49e6f0963591a": {
     "model_module": "@jupyter-widgets/base",
     "model_module_version": "1.2.0",
     "model_name": "LayoutModel",
     "state": {
      "_model_module": "@jupyter-widgets/base",
      "_model_module_version": "1.2.0",
      "_model_name": "LayoutModel",
      "_view_count": null,
      "_view_module": "@jupyter-widgets/base",
      "_view_module_version": "1.2.0",
      "_view_name": "LayoutView",
      "align_content": null,
      "align_items": null,
      "align_self": null,
      "border": null,
      "bottom": null,
      "display": null,
      "flex": null,
      "flex_flow": null,
      "grid_area": null,
      "grid_auto_columns": null,
      "grid_auto_flow": null,
      "grid_auto_rows": null,
      "grid_column": null,
      "grid_gap": null,
      "grid_row": null,
      "grid_template_areas": null,
      "grid_template_columns": null,
      "grid_template_rows": null,
      "height": null,
      "justify_content": null,
      "justify_items": null,
      "left": null,
      "margin": null,
      "max_height": null,
      "max_width": null,
      "min_height": null,
      "min_width": null,
      "object_fit": null,
      "object_position": null,
      "order": null,
      "overflow": null,
      "overflow_x": null,
      "overflow_y": null,
      "padding": null,
      "right": null,
      "top": null,
      "visibility": null,
      "width": null
     }
    },
    "5cc596cb96e74255ad4694fcb906d055": {
     "model_module": "@jupyter-widgets/controls",
     "model_module_version": "1.5.0",
     "model_name": "HTMLModel",
     "state": {
      "_dom_classes": [],
      "_model_module": "@jupyter-widgets/controls",
      "_model_module_version": "1.5.0",
      "_model_name": "HTMLModel",
      "_view_count": null,
      "_view_module": "@jupyter-widgets/controls",
      "_view_module_version": "1.5.0",
      "_view_name": "HTMLView",
      "description": "",
      "description_tooltip": null,
      "layout": "IPY_MODEL_6880a6841e704a099af6843acafdf744",
      "placeholder": "​",
      "style": "IPY_MODEL_4b94955e3abc4d5d8847c89c3c4ef503",
      "value": " 32/32 [39:00&lt;00:00, 20.61s/it]"
     }
    },
    "606767680bee40a6824ff1598b89a7bb": {
     "model_module": "@jupyter-widgets/controls",
     "model_module_version": "1.5.0",
     "model_name": "DescriptionStyleModel",
     "state": {
      "_model_module": "@jupyter-widgets/controls",
      "_model_module_version": "1.5.0",
      "_model_name": "DescriptionStyleModel",
      "_view_count": null,
      "_view_module": "@jupyter-widgets/base",
      "_view_module_version": "1.2.0",
      "_view_name": "StyleView",
      "description_width": ""
     }
    },
    "676e7837e2e746aebf0c8e5164136fdf": {
     "model_module": "@jupyter-widgets/controls",
     "model_module_version": "1.5.0",
     "model_name": "HTMLModel",
     "state": {
      "_dom_classes": [],
      "_model_module": "@jupyter-widgets/controls",
      "_model_module_version": "1.5.0",
      "_model_name": "HTMLModel",
      "_view_count": null,
      "_view_module": "@jupyter-widgets/controls",
      "_view_module_version": "1.5.0",
      "_view_name": "HTMLView",
      "description": "",
      "description_tooltip": null,
      "layout": "IPY_MODEL_435990ebc2a24e3aae860dc8cd03fe3d",
      "placeholder": "​",
      "style": "IPY_MODEL_606767680bee40a6824ff1598b89a7bb",
      "value": " 16/16 [00:03&lt;00:00,  5.76it/s]"
     }
    },
    "67dc8255e5e9417883ff9b3e0308a45c": {
     "model_module": "@jupyter-widgets/controls",
     "model_module_version": "1.5.0",
     "model_name": "ProgressStyleModel",
     "state": {
      "_model_module": "@jupyter-widgets/controls",
      "_model_module_version": "1.5.0",
      "_model_name": "ProgressStyleModel",
      "_view_count": null,
      "_view_module": "@jupyter-widgets/base",
      "_view_module_version": "1.2.0",
      "_view_name": "StyleView",
      "bar_color": null,
      "description_width": ""
     }
    },
    "6880a6841e704a099af6843acafdf744": {
     "model_module": "@jupyter-widgets/base",
     "model_module_version": "1.2.0",
     "model_name": "LayoutModel",
     "state": {
      "_model_module": "@jupyter-widgets/base",
      "_model_module_version": "1.2.0",
      "_model_name": "LayoutModel",
      "_view_count": null,
      "_view_module": "@jupyter-widgets/base",
      "_view_module_version": "1.2.0",
      "_view_name": "LayoutView",
      "align_content": null,
      "align_items": null,
      "align_self": null,
      "border": null,
      "bottom": null,
      "display": null,
      "flex": null,
      "flex_flow": null,
      "grid_area": null,
      "grid_auto_columns": null,
      "grid_auto_flow": null,
      "grid_auto_rows": null,
      "grid_column": null,
      "grid_gap": null,
      "grid_row": null,
      "grid_template_areas": null,
      "grid_template_columns": null,
      "grid_template_rows": null,
      "height": null,
      "justify_content": null,
      "justify_items": null,
      "left": null,
      "margin": null,
      "max_height": null,
      "max_width": null,
      "min_height": null,
      "min_width": null,
      "object_fit": null,
      "object_position": null,
      "order": null,
      "overflow": null,
      "overflow_x": null,
      "overflow_y": null,
      "padding": null,
      "right": null,
      "top": null,
      "visibility": null,
      "width": null
     }
    },
    "80c4a2f62cf744eea7f0fb6e2da1abe8": {
     "model_module": "@jupyter-widgets/controls",
     "model_module_version": "1.5.0",
     "model_name": "DescriptionStyleModel",
     "state": {
      "_model_module": "@jupyter-widgets/controls",
      "_model_module_version": "1.5.0",
      "_model_name": "DescriptionStyleModel",
      "_view_count": null,
      "_view_module": "@jupyter-widgets/base",
      "_view_module_version": "1.2.0",
      "_view_name": "StyleView",
      "description_width": ""
     }
    },
    "9126a5d4c61142adb6dafd407d77da62": {
     "model_module": "@jupyter-widgets/base",
     "model_module_version": "1.2.0",
     "model_name": "LayoutModel",
     "state": {
      "_model_module": "@jupyter-widgets/base",
      "_model_module_version": "1.2.0",
      "_model_name": "LayoutModel",
      "_view_count": null,
      "_view_module": "@jupyter-widgets/base",
      "_view_module_version": "1.2.0",
      "_view_name": "LayoutView",
      "align_content": null,
      "align_items": null,
      "align_self": null,
      "border": null,
      "bottom": null,
      "display": null,
      "flex": null,
      "flex_flow": null,
      "grid_area": null,
      "grid_auto_columns": null,
      "grid_auto_flow": null,
      "grid_auto_rows": null,
      "grid_column": null,
      "grid_gap": null,
      "grid_row": null,
      "grid_template_areas": null,
      "grid_template_columns": null,
      "grid_template_rows": null,
      "height": null,
      "justify_content": null,
      "justify_items": null,
      "left": null,
      "margin": null,
      "max_height": null,
      "max_width": null,
      "min_height": null,
      "min_width": null,
      "object_fit": null,
      "object_position": null,
      "order": null,
      "overflow": null,
      "overflow_x": null,
      "overflow_y": null,
      "padding": null,
      "right": null,
      "top": null,
      "visibility": null,
      "width": null
     }
    },
    "9f31bc24270f40fab7ce1f7bd8c82d6f": {
     "model_module": "@jupyter-widgets/controls",
     "model_module_version": "1.5.0",
     "model_name": "HTMLModel",
     "state": {
      "_dom_classes": [],
      "_model_module": "@jupyter-widgets/controls",
      "_model_module_version": "1.5.0",
      "_model_name": "HTMLModel",
      "_view_count": null,
      "_view_module": "@jupyter-widgets/controls",
      "_view_module_version": "1.5.0",
      "_view_name": "HTMLView",
      "description": "",
      "description_tooltip": null,
      "layout": "IPY_MODEL_a411a1d747a04700add4f8f84647b9d6",
      "placeholder": "​",
      "style": "IPY_MODEL_80c4a2f62cf744eea7f0fb6e2da1abe8",
      "value": "100%"
     }
    },
    "a411a1d747a04700add4f8f84647b9d6": {
     "model_module": "@jupyter-widgets/base",
     "model_module_version": "1.2.0",
     "model_name": "LayoutModel",
     "state": {
      "_model_module": "@jupyter-widgets/base",
      "_model_module_version": "1.2.0",
      "_model_name": "LayoutModel",
      "_view_count": null,
      "_view_module": "@jupyter-widgets/base",
      "_view_module_version": "1.2.0",
      "_view_name": "LayoutView",
      "align_content": null,
      "align_items": null,
      "align_self": null,
      "border": null,
      "bottom": null,
      "display": null,
      "flex": null,
      "flex_flow": null,
      "grid_area": null,
      "grid_auto_columns": null,
      "grid_auto_flow": null,
      "grid_auto_rows": null,
      "grid_column": null,
      "grid_gap": null,
      "grid_row": null,
      "grid_template_areas": null,
      "grid_template_columns": null,
      "grid_template_rows": null,
      "height": null,
      "justify_content": null,
      "justify_items": null,
      "left": null,
      "margin": null,
      "max_height": null,
      "max_width": null,
      "min_height": null,
      "min_width": null,
      "object_fit": null,
      "object_position": null,
      "order": null,
      "overflow": null,
      "overflow_x": null,
      "overflow_y": null,
      "padding": null,
      "right": null,
      "top": null,
      "visibility": null,
      "width": null
     }
    },
    "aa2e0a4a8345473c9d5d5e5b2c3c8793": {
     "model_module": "@jupyter-widgets/controls",
     "model_module_version": "1.5.0",
     "model_name": "ProgressStyleModel",
     "state": {
      "_model_module": "@jupyter-widgets/controls",
      "_model_module_version": "1.5.0",
      "_model_name": "ProgressStyleModel",
      "_view_count": null,
      "_view_module": "@jupyter-widgets/base",
      "_view_module_version": "1.2.0",
      "_view_name": "StyleView",
      "bar_color": null,
      "description_width": ""
     }
    },
    "b6552ea9759b47c8933fd82d58351180": {
     "model_module": "@jupyter-widgets/base",
     "model_module_version": "1.2.0",
     "model_name": "LayoutModel",
     "state": {
      "_model_module": "@jupyter-widgets/base",
      "_model_module_version": "1.2.0",
      "_model_name": "LayoutModel",
      "_view_count": null,
      "_view_module": "@jupyter-widgets/base",
      "_view_module_version": "1.2.0",
      "_view_name": "LayoutView",
      "align_content": null,
      "align_items": null,
      "align_self": null,
      "border": null,
      "bottom": null,
      "display": null,
      "flex": null,
      "flex_flow": null,
      "grid_area": null,
      "grid_auto_columns": null,
      "grid_auto_flow": null,
      "grid_auto_rows": null,
      "grid_column": null,
      "grid_gap": null,
      "grid_row": null,
      "grid_template_areas": null,
      "grid_template_columns": null,
      "grid_template_rows": null,
      "height": null,
      "justify_content": null,
      "justify_items": null,
      "left": null,
      "margin": null,
      "max_height": null,
      "max_width": null,
      "min_height": null,
      "min_width": null,
      "object_fit": null,
      "object_position": null,
      "order": null,
      "overflow": null,
      "overflow_x": null,
      "overflow_y": null,
      "padding": null,
      "right": null,
      "top": null,
      "visibility": null,
      "width": null
     }
    },
    "bbc2fb5ebf8849afbb02f8c507706bb5": {
     "model_module": "@jupyter-widgets/controls",
     "model_module_version": "1.5.0",
     "model_name": "DescriptionStyleModel",
     "state": {
      "_model_module": "@jupyter-widgets/controls",
      "_model_module_version": "1.5.0",
      "_model_name": "DescriptionStyleModel",
      "_view_count": null,
      "_view_module": "@jupyter-widgets/base",
      "_view_module_version": "1.2.0",
      "_view_name": "StyleView",
      "description_width": ""
     }
    }
   }
  }
 },
 "nbformat": 4,
 "nbformat_minor": 1
}
